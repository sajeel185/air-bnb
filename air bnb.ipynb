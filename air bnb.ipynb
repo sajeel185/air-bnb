{
 "cells": [
  {
   "cell_type": "markdown",
   "metadata": {},
   "source": [
    "I used the airbnb data from Cambridge, Massachusetts.\n",
    "\n",
    "\n",
    "\n",
    "## Question 1\n",
    "\n",
    "SELECT\n",
    "\tlisting,\n",
    "\tdescription,\n",
    "\tneighborhood,\n",
    "\tMAX(price)\n",
    "FROM\n",
    "\tbnbtwo\n",
    "GROUP BY 1,2,3\n",
    "ORDER BY 4 DESC;\n",
    "\n",
    "The most expensive listing in Cambridge is listing number 18600639, at $1375.  The listing is for an entire home, and it is located in the Agassiz neighborhood.\n",
    "\n",
    "\n"
   ]
  },
  {
   "cell_type": "markdown",
   "metadata": {},
   "source": [
    "## Question 2\n",
    "\n",
    "SELECT\n",
    "\tb.neighborhood,\n",
    "\tCOUNT(*) AS neighborhood_count\n",
    "FROM\n",
    "\tbnbtwo b\n",
    "JOIN\n",
    "\tairbnb a \n",
    "ON \n",
    "\tb.listing=a.listing\n",
    "WHERE \n",
    "\ta.available= 'f'\n",
    "GROUP BY 1\n",
    "ORDER BY 2 DESC;\n",
    "\n",
    "Mid Cambridge, East Cambridge, and Cambridge Port are the top three most popular neighborhoods."
   ]
  },
  {
   "cell_type": "markdown",
   "metadata": {},
   "source": [
    "## Question 3\n",
    "\n",
    "SELECT\n",
    "\ta.date,\n",
    "\tb.price\n",
    "FROM\n",
    "\tairbnb a\n",
    "JOIN \n",
    "\tbnbtwo b\n",
    "ON\n",
    "\ta.listing=b.listing\n",
    "WHERE a.available='t'\n",
    "ORDER BY b.price ASC;\n",
    "\n",
    "\n",
    "The query above was used to select those dates when listings were available.  It returns over 200,000 rows, starting with the lowest prices available.  We see that low prices were available throughout the year.  Cambridge is a town with alot of high profile universities, but demand is pretty consistent throughout the year, suggesting that prices don't vary much throughout the year.  "
   ]
  }
 ],
 "metadata": {
  "kernelspec": {
   "display_name": "Python 3",
   "language": "python",
   "name": "python3"
  },
  "language_info": {
   "codemirror_mode": {
    "name": "ipython",
    "version": 3
   },
   "file_extension": ".py",
   "mimetype": "text/x-python",
   "name": "python",
   "nbconvert_exporter": "python",
   "pygments_lexer": "ipython3",
   "version": "3.7.0"
  }
 },
 "nbformat": 4,
 "nbformat_minor": 2
}
